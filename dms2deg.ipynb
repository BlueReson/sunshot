{
 "cells": [
  {
   "cell_type": "code",
   "execution_count": 2,
   "id": "5a830937-70e6-4449-8d4d-9ada6a38b622",
   "metadata": {},
   "outputs": [],
   "source": [
    "import rasterio as rio\n",
    "\n",
    "# Dataset of elevation in the Tarrant County area\n",
    "#elev = rio.open(\"http://personal.tcu.edu/kylewalker/data/tarrant_elevation.tif\"\n",
    "                \n",
    "import re"
   ]
  },
  {
   "cell_type": "code",
   "execution_count": 4,
   "id": "ad6e7e39-87a7-468f-b8f5-a3f2d9bd7bb5",
   "metadata": {},
   "outputs": [
    {
     "name": "stdout",
     "output_type": "stream",
     "text": [
      "Defaulting to user installation because normal site-packages is not writeable\n",
      "Requirement already satisfied: rasterio in /home/luke/.local/lib/python3.9/site-packages (1.2.10)\n",
      "Requirement already satisfied: setuptools in /home/luke/anaconda3/lib/python3.9/site-packages (from rasterio) (58.0.4)\n",
      "Requirement already satisfied: affine in /home/luke/.local/lib/python3.9/site-packages (from rasterio) (2.3.0)\n",
      "Requirement already satisfied: click-plugins in /home/luke/.local/lib/python3.9/site-packages (from rasterio) (1.1.1)\n",
      "Requirement already satisfied: click>=4.0 in /home/luke/anaconda3/lib/python3.9/site-packages (from rasterio) (8.0.3)\n",
      "Requirement already satisfied: snuggs>=1.4.1 in /home/luke/.local/lib/python3.9/site-packages (from rasterio) (1.4.7)\n",
      "Requirement already satisfied: certifi in /home/luke/anaconda3/lib/python3.9/site-packages (from rasterio) (2021.10.8)\n",
      "Requirement already satisfied: attrs in /home/luke/anaconda3/lib/python3.9/site-packages (from rasterio) (21.2.0)\n",
      "Requirement already satisfied: numpy in /home/luke/anaconda3/lib/python3.9/site-packages (from rasterio) (1.20.3)\n",
      "Requirement already satisfied: cligj>=0.5 in /home/luke/.local/lib/python3.9/site-packages (from rasterio) (0.7.2)\n",
      "Requirement already satisfied: pyparsing>=2.1.6 in /home/luke/anaconda3/lib/python3.9/site-packages (from snuggs>=1.4.1->rasterio) (3.0.4)\n",
      "Note: you may need to restart the kernel to use updated packages.\n"
     ]
    }
   ],
   "source": [
    "import pandas as pd import  #https://stackoverflow.com/questions/33997361 \n",
    "def dms2dd(s): # example: s = \"\"\"0°51'56.29\"S\"\"\" \n",
    "    degrees, minutes, seconds, direction = re.split('[°\\'\"]+', s) d\n",
    "    d = float(degrees) + float(minutes)/60 + float(seconds)/(60*60); \n",
    "    if direction in ('S','W'): dd*= -1 \n",
    "    return dd df = pd.DataFrame({'CPO': {0: 'Raya', 1: 'Raya'}, 'Latitude': {0: '0°51\\'56.29\"S', 1: '1°23\\'39.29\"S'}, 'Longitude': {0: '101°26\\'46.29\"E', 1: '101°35\\'30.45\"E'}, 'PKO': {0: 'X', 1: 'X'}, 'ParentCompany': {0: 'Incasi', 1: 'Incasi'}}) df['Latitude'] = df['Latitude'].apply(dms2dd) df['Longitude'] = df['Longitude'].apply(dms2dd)\n",
    "\n"
   ]
  }
 ],
 "metadata": {
  "kernelspec": {
   "display_name": "Python 3",
   "language": "python",
   "name": "python3"
  },
  "language_info": {
   "codemirror_mode": {
    "name": "ipython",
    "version": 3
   },
   "file_extension": ".py",
   "mimetype": "text/x-python",
   "name": "python",
   "nbconvert_exporter": "python",
   "pygments_lexer": "ipython3",
   "version": "3.9.7"
  }
 },
 "nbformat": 4,
 "nbformat_minor": 5
}
